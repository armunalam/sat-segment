{
 "cells": [
  {
   "cell_type": "code",
   "execution_count": null,
   "metadata": {},
   "outputs": [],
   "source": [
    "import torch\n",
    "import torchvision\n",
    "import numpy as np\n",
    "from PIL import Image\n",
    "from UnimatchV2_LULC.model.semseg.dpt import DPT\n",
    "from utils.utils import make_patches, unpatchify, decode_segmap, LABELS, COLORS\n",
    "\n",
    "device = torch.device('cuda' if torch.cuda.is_available() else 'cpu')\n",
    "\n",
    "model = DPT(\n",
    "    **{'encoder_size': 'base', 'features': 128, 'out_channels': [96, 192, 384, 768],\n",
    "       'nclass': 6})\n",
    "model = torch.nn.SyncBatchNorm.convert_sync_batchnorm(model)\n",
    "model.to(device)\n",
    "\n",
    "unimatch_path = '/opt/models/exp/unimatchv2_0.pth'\n",
    "checkpoint = torch.load(\n",
    "    unimatch_path, map_location='cpu', weights_only=False)\n",
    "new_state_dict = {}\n",
    "for k, v in checkpoint['model'].items():\n",
    "    new_key = k.replace('module.', '')\n",
    "    new_state_dict[new_key] = v\n",
    "model.load_state_dict(new_state_dict)\n",
    "\n",
    "\n"
   ]
  }
 ],
 "metadata": {
  "kernelspec": {
   "display_name": "sat-segment",
   "language": "python",
   "name": "python3"
  },
  "language_info": {
   "name": "python",
   "version": "3.12.8"
  }
 },
 "nbformat": 4,
 "nbformat_minor": 2
}
